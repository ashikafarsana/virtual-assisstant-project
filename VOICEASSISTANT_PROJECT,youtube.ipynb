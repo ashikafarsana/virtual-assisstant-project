{
 "cells": [
  {
   "cell_type": "code",
   "execution_count": 1,
   "id": "f60168fb",
   "metadata": {},
   "outputs": [
    {
     "ename": "ModuleNotFoundError",
     "evalue": "No module named 'speech_recognition'",
     "output_type": "error",
     "traceback": [
      "\u001b[1;31m---------------------------------------------------------------------------\u001b[0m",
      "\u001b[1;31mModuleNotFoundError\u001b[0m                       Traceback (most recent call last)",
      "Cell \u001b[1;32mIn[1], line 1\u001b[0m\n\u001b[1;32m----> 1\u001b[0m \u001b[39mimport\u001b[39;00m \u001b[39mspeech_recognition\u001b[39;00m \u001b[39mas\u001b[39;00m \u001b[39msr\u001b[39;00m\n\u001b[0;32m      2\u001b[0m \u001b[39mimport\u001b[39;00m \u001b[39mdatetime\u001b[39;00m\n\u001b[0;32m      3\u001b[0m \u001b[39mimport\u001b[39;00m \u001b[39msubprocess\u001b[39;00m\n",
      "\u001b[1;31mModuleNotFoundError\u001b[0m: No module named 'speech_recognition'"
     ]
    }
   ],
   "source": [
    "import speech_recognition as sr\n",
    "import datetime\n",
    "import subprocess\n",
    "import pywhatkit\n",
    "import pyttsx3\n",
    "import webbrowser\n",
    "import pyaudio\n",
    "\n"
   ]
  },
  {
   "cell_type": "code",
   "execution_count": 9,
   "id": "cec8915d",
   "metadata": {},
   "outputs": [],
   "source": [
    "engine=pyttsx3.init()\n",
    "voices=engine.getProperty('voices')\n",
    "engine.setProperty('voice',voices[1].id)\n",
    "recognizer=sr.Recognizer()\n",
    "def cmd():\n",
    "    with sr.Microphone() as source:\n",
    "        print('Clearing background noices....please wait')\n",
    "        recognizer.adjust_for_ambient_noise(source,duration=0.5)\n",
    "        print('Ask me anything....')\n",
    "        recordedaudio=recognizer.listen(source)\n",
    "    try:\n",
    "        command=recognizer.recognize_google(recordedaudio,language='en_us')\n",
    "        text=text.lower()\n",
    "        print('your message:',format(text))\n",
    "    except Exception as ex:\n",
    "        print(ex)\n",
    "        if 'chrome'in text:\n",
    "            a='opening chrome..'\n",
    "            engine.say(a)\n",
    "            engine.runAndWait()\n",
    "            programname=\"C:\\Program Files\\Google\\Chrome\\Application\\chrome.exe\"\n",
    "            subprocess.Popen([programname])\n",
    "        if 'time' in text:\n",
    "            time=datetime.datetime.now().strftime('%I:%M%p')\n",
    "            print('time:')\n",
    "            engine.say(time)\n",
    "            engine.runAndWait()\n",
    "        if 'play'in text:\n",
    "            a='opening youtube..'\n",
    "            enigine.say(a)\n",
    "            engine.runAndWait()\n",
    "            pywhatkit.playonyt(text)\n",
    "        if 'youtube' in text:\n",
    "            b='opening youtube'\n",
    "            engine.say(b)\n",
    "            engine.runAndWait()\n",
    "            webbrowser.open('www.youtube.com')\n",
    "       \n",
    "    while True:\n",
    "        cmd()\n",
    "            \n",
    "        "
   ]
  },
  {
   "cell_type": "code",
   "execution_count": null,
   "id": "065947f9",
   "metadata": {},
   "outputs": [],
   "source": []
  },
  {
   "cell_type": "code",
   "execution_count": null,
   "id": "1e4162bb",
   "metadata": {},
   "outputs": [],
   "source": []
  },
  {
   "cell_type": "code",
   "execution_count": null,
   "id": "f6bc7b76",
   "metadata": {},
   "outputs": [],
   "source": []
  },
  {
   "cell_type": "code",
   "execution_count": null,
   "id": "1f34e6a9",
   "metadata": {},
   "outputs": [],
   "source": []
  },
  {
   "cell_type": "code",
   "execution_count": null,
   "id": "59bf3702",
   "metadata": {},
   "outputs": [],
   "source": []
  },
  {
   "cell_type": "code",
   "execution_count": null,
   "id": "99c7e92f",
   "metadata": {},
   "outputs": [],
   "source": []
  },
  {
   "cell_type": "code",
   "execution_count": null,
   "id": "3cf2b3ad",
   "metadata": {},
   "outputs": [],
   "source": [
    " if 'camera' in text:\n",
    "            a='opening camera'\n",
    "            engine.say(a)\n",
    "            engine.runAndWait()\n",
    "            programname=\"\""
   ]
  }
 ],
 "metadata": {
  "kernelspec": {
   "display_name": "datascience",
   "language": "python",
   "name": "python3"
  },
  "language_info": {
   "codemirror_mode": {
    "name": "ipython",
    "version": 3
   },
   "file_extension": ".py",
   "mimetype": "text/x-python",
   "name": "python",
   "nbconvert_exporter": "python",
   "pygments_lexer": "ipython3",
   "version": "3.9.15 (main, Nov 24 2022, 14:39:17) [MSC v.1916 64 bit (AMD64)]"
  },
  "vscode": {
   "interpreter": {
    "hash": "d228492e918c3047a63c94fd635c48130d6681b5ba4805facdb40c8720bf029c"
   }
  }
 },
 "nbformat": 4,
 "nbformat_minor": 5
}
